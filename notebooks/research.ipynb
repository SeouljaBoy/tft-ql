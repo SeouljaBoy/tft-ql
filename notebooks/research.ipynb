{
 "cells": [
  {
   "cell_type": "code",
   "execution_count": 37,
   "metadata": {},
   "outputs": [],
   "source": [
    "import tft.ql.expr as ql\n",
    "from tft.ql.util import *\n",
    "from tft.client.meta import *"
   ]
  },
  {
   "cell_type": "code",
   "execution_count": 2,
   "metadata": {},
   "outputs": [],
   "source": [
    "client = MetaTFTClient()\n",
    "comps = client.fetch(MetaTFTApis.COMPS_DATA)\n",
    "set_data = client.fetch(MetaTFTApis.SET_DATA)"
   ]
  },
  {
   "cell_type": "code",
   "execution_count": 3,
   "metadata": {},
   "outputs": [],
   "source": [
    "q = ql.query(comps)\n",
    "q2 = ql.query(set_data)"
   ]
  },
  {
   "cell_type": "code",
   "execution_count": 4,
   "metadata": {},
   "outputs": [
    {
     "name": "stdout",
     "output_type": "stream",
     "text": [
      "apiName\n",
      "  TFT_Item_RabadonsDeathcap\n",
      "associatedTraits\n",
      "  [0]\n",
      "composition\n",
      "  [2]\n",
      "    TFT_Item_NeedlesslyLargeRod\n",
      "desc\n",
      "  \n",
      "effects\n",
      "  AP\n",
      "    50\n",
      "  BonusDamage\n",
      "    0.20000000298023224\n",
      "  {1543aa48}\n",
      "    0.20000000298023224\n",
      "from\n",
      "  None\n",
      "icon\n",
      "  ASSETS/Maps/Particles/TFT/Item_Icons/Standard/Rabadons_Deathcap.tex\n",
      "id\n",
      "  None\n",
      "incompatibleTraits\n",
      "  [0]\n",
      "name\n",
      "  Rabadon's Deathcap\n",
      "unique\n",
      "  False\n",
      "en_name\n",
      "  Rabadon's Deathcap\n",
      "tags\n",
      "  [0]\n"
     ]
    }
   ],
   "source": [
    "# All item data.\n",
    "# Splay displays nested fields for a query.\n",
    "# [X] means its a list and the first one is picked.\n",
    "q2.idx('items.0').splay()"
   ]
  },
  {
   "cell_type": "code",
   "execution_count": 5,
   "metadata": {},
   "outputs": [
    {
     "data": {
      "text/plain": [
       "{0: \"Rabadon's Deathcap\",\n",
       " 1: 'Infinity Edge',\n",
       " 2: \"Protector's Vow\",\n",
       " 3: 'Redemption',\n",
       " 4: 'Sugarcraft Emblem',\n",
       " 5: 'Honeymancy Emblem',\n",
       " 6: 'Faerie Emblem',\n",
       " 7: 'Frost Emblem',\n",
       " 8: 'Witchcraft Emblem',\n",
       " 9: 'Eldritch Emblem',\n",
       " 10: 'Pyro Emblem',\n",
       " 11: 'Portal Emblem',\n",
       " 12: \"Thief's Gloves\",\n",
       " 13: \"Guinsoo's Rageblade\",\n",
       " 14: 'Ionic Spark',\n",
       " 15: \"Sterak's Gage\",\n",
       " 16: \"Dragon's Claw\",\n",
       " 17: 'Guardbreaker',\n",
       " 18: 'Gargoyle Stoneplate',\n",
       " 19: 'Bramble Vest',\n",
       " 20: 'Giant Slayer',\n",
       " 21: 'Sunfire Cape',\n",
       " 22: 'Hand Of Justice',\n",
       " 23: 'Edge of Night',\n",
       " 24: \"Titan's Resolve\",\n",
       " 25: \"Runaan's Hurricane\",\n",
       " 26: 'Bloodthirster',\n",
       " 27: \"Archangel's Staff\",\n",
       " 28: 'Spear of Shojin',\n",
       " 29: 'Evenshroud',\n",
       " 30: \"Nashor's Tooth\",\n",
       " 31: 'Morellonomicon',\n",
       " 32: 'Red Buff',\n",
       " 33: 'Crownguard',\n",
       " 34: 'Adaptive Helm',\n",
       " 35: 'Blue Buff',\n",
       " 36: 'Last Whisper',\n",
       " 37: 'Jeweled Gauntlet',\n",
       " 38: 'Steadfast Heart',\n",
       " 39: \"Tactician's Crown\",\n",
       " 40: 'Quicksilver',\n",
       " 41: 'Deathblade',\n",
       " 42: \"Warmog's Armor\",\n",
       " 43: 'Statikk Shiv',\n",
       " 44: 'Hextech Gunblade'}"
      ]
     },
     "execution_count": 5,
     "metadata": {},
     "output_type": "execute_result"
    }
   ],
   "source": [
    "# Buildable items.\n",
    "buildable_items = q2.idx('items').filter(ql.idx('composition').len().eq(2))\n",
    "# buildable_items.map(ql.idx('apiName')).vals().eval() # Names.\n",
    "buildable_items.map(ql.idx('en_name')).eval()"
   ]
  },
  {
   "cell_type": "code",
   "execution_count": 43,
   "metadata": {},
   "outputs": [
    {
     "data": {
      "text/plain": [
       "['TFT_Item_SparringGloves',\n",
       " 'TFT_Item_NegatronCloak',\n",
       " 'TFT_Item_RecurveBow',\n",
       " 'TFT_Item_ChainVest',\n",
       " 'TFT_Item_BFSword',\n",
       " 'TFT_Item_NeedlesslyLargeRod',\n",
       " 'TFT_Item_TearOfTheGoddess',\n",
       " 'TFT_Item_GiantsBelt',\n",
       " 'TFT_Item_Spatula']"
      ]
     },
     "execution_count": 43,
     "metadata": {},
     "output_type": "execute_result"
    }
   ],
   "source": [
    "# Base components names.\n",
    "component_names = buildable_items.map(ql.idx('composition')).vals().flatten().uniq().eval()\n",
    "component_items = q2.idx('items').filter(ql.idx('apiName').in_set(component_names))\n",
    "component_names"
   ]
  },
  {
   "cell_type": "code",
   "execution_count": 7,
   "metadata": {},
   "outputs": [
    {
     "data": {
      "text/plain": [
       "['TFT12_Item_SugarcraftEmblemItem',\n",
       " 'TFT12_Item_BlasterEmblemItem',\n",
       " 'TFT12_Item_VanguardEmblemItem',\n",
       " 'TFT12_Item_ScholarEmblemItem',\n",
       " 'TFT12_Item_ChronoEmblemItem',\n",
       " 'TFT12_Item_HoneymancyEmblemItem',\n",
       " 'TFT12_Item_PreserverEmblemItem',\n",
       " 'TFT12_Item_ArcanaEmblemItem',\n",
       " 'TFT12_Item_MageEmblemItem',\n",
       " 'TFT12_Item_FaerieEmblemItem',\n",
       " 'TFT12_Item_BastionEmblemItem',\n",
       " 'TFT12_Item_WarriorEmblemItem',\n",
       " 'TFT12_Item_IncantorEmblemItem',\n",
       " 'TFT12_Item_FrostEmblemItem',\n",
       " 'TFT12_Item_WitchcraftEmblemItem',\n",
       " 'TFT12_Item_MultistrikerEmblemItem',\n",
       " 'TFT12_Item_ShapeshifterEmblemItem',\n",
       " 'TFT12_Item_EldritchEmblemItem',\n",
       " 'TFT12_Item_PyroEmblemItem',\n",
       " 'TFT12_Item_HunterEmblemItem',\n",
       " 'TFT12_Item_PortalEmblemItem']"
      ]
     },
     "execution_count": 7,
     "metadata": {},
     "output_type": "execute_result"
    }
   ],
   "source": [
    "# Emblem items.\n",
    "emblems = q2.idx('items').filter(ql.idx('apiName').contains('Emblem'))\n",
    "emblems.map(ql.idx('apiName')).vals().eval()"
   ]
  },
  {
   "cell_type": "code",
   "execution_count": 8,
   "metadata": {},
   "outputs": [
    {
     "data": {
      "text/plain": [
       "'TFTSet12'"
      ]
     },
     "execution_count": 8,
     "metadata": {},
     "output_type": "execute_result"
    }
   ],
   "source": [
    "# TFT set\n",
    "q.idx('tft_set').eval()"
   ]
  },
  {
   "cell_type": "code",
   "execution_count": 9,
   "metadata": {},
   "outputs": [
    {
     "data": {
      "text/plain": [
       "{0: 'Zilean',\n",
       " 1: 'Twitch',\n",
       " 2: 'Warwick',\n",
       " 3: 'Hwei',\n",
       " 4: 'Diana',\n",
       " 5: 'Jax',\n",
       " 6: 'Vex',\n",
       " 7: 'Smolder',\n",
       " 8: 'Karma',\n",
       " 9: 'Camille',\n",
       " 10: 'Blitzcrank',\n",
       " 11: 'Elise',\n",
       " 12: 'Jayce',\n",
       " 13: 'Tristana',\n",
       " 14: 'Ashe',\n",
       " 15: 'Zoe',\n",
       " 16: 'Nilah',\n",
       " 17: 'Kassadin',\n",
       " 18: \"Kog'Maw\",\n",
       " 19: 'Cassiopeia',\n",
       " 20: 'Syndra',\n",
       " 21: 'Nunu',\n",
       " 22: 'Katarina',\n",
       " 23: 'Hecarim',\n",
       " 24: 'Neeko',\n",
       " 25: 'Ezreal',\n",
       " 26: 'Jinx',\n",
       " 27: 'Veigar',\n",
       " 28: 'Bard',\n",
       " 29: 'Lillia',\n",
       " 30: 'Mordekaiser',\n",
       " 31: 'Fiora',\n",
       " 32: 'Gwen',\n",
       " 33: 'Rakan',\n",
       " 34: 'Tahm Kench',\n",
       " 35: 'Kalista',\n",
       " 36: 'Ryze',\n",
       " 37: 'Nami',\n",
       " 38: 'Briar',\n",
       " 39: 'Morgana',\n",
       " 40: 'Xerath',\n",
       " 41: 'Milio',\n",
       " 42: 'Norra & Yuumi',\n",
       " 43: 'Nomsy',\n",
       " 44: 'Varus',\n",
       " 45: 'Nasus',\n",
       " 46: 'Akali',\n",
       " 47: 'Taric',\n",
       " 48: 'Galio',\n",
       " 49: 'Shen',\n",
       " 50: 'Shyvana',\n",
       " 51: 'Poppy',\n",
       " 52: 'Rumble',\n",
       " 53: 'Ziggs',\n",
       " 54: 'Swain',\n",
       " 55: 'Ahri',\n",
       " 56: 'Soraka',\n",
       " 57: 'Seraphine',\n",
       " 58: 'Olaf',\n",
       " 59: 'Wukong'}"
      ]
     },
     "execution_count": 9,
     "metadata": {},
     "output_type": "execute_result"
    }
   ],
   "source": [
    "champions = q2.idx('units').filter(ql.idx('traits').len().gt(0))\n",
    "champions.map(ql.idx('en_name')).eval()"
   ]
  },
  {
   "cell_type": "code",
   "execution_count": 15,
   "metadata": {},
   "outputs": [
    {
     "data": {
      "text/plain": [
       "{'Cluster': 0,\n",
       " 'centroid': [0.0743,\n",
       "  0.0029,\n",
       "  0.0014,\n",
       "  1.9207,\n",
       "  0.1481,\n",
       "  0.0165,\n",
       "  0.0181,\n",
       "  0.0024,\n",
       "  0.0135,\n",
       "  0.0004,\n",
       "  0.05,\n",
       "  0.0046,\n",
       "  2.6148,\n",
       "  0.0413,\n",
       "  0.0468,\n",
       "  0.0391,\n",
       "  0.0045,\n",
       "  0.0017,\n",
       "  0.0352,\n",
       "  0.0412,\n",
       "  0.0127,\n",
       "  0.002,\n",
       "  0.0279,\n",
       "  0.0112,\n",
       "  0.0571,\n",
       "  0.1183,\n",
       "  2.4423,\n",
       "  0.5064,\n",
       "  0.0094,\n",
       "  0.0077,\n",
       "  0.0019,\n",
       "  0.0013,\n",
       "  0.0006,\n",
       "  0.0332,\n",
       "  0.0071,\n",
       "  0.0019,\n",
       "  0.0031,\n",
       "  1.5794,\n",
       "  3.9062,\n",
       "  0.017,\n",
       "  0.0287,\n",
       "  0.0073,\n",
       "  0.0081,\n",
       "  0.1023,\n",
       "  0.0295,\n",
       "  0.0047,\n",
       "  0,\n",
       "  1.7578,\n",
       "  0.0142,\n",
       "  3.7404,\n",
       "  0,\n",
       "  0.0647,\n",
       "  0.0013,\n",
       "  0.015,\n",
       "  0.0979,\n",
       "  0,\n",
       "  0.0161,\n",
       "  0.1896,\n",
       "  0.0234,\n",
       "  0.0002,\n",
       "  1.0391,\n",
       "  0.0067,\n",
       "  0.0149,\n",
       "  0.2162,\n",
       "  0.0327,\n",
       "  1.5824,\n",
       "  0.0495,\n",
       "  0.0037,\n",
       "  0.0067,\n",
       "  1.3834,\n",
       "  0.0216,\n",
       "  0.0014,\n",
       "  0.0061,\n",
       "  0.001,\n",
       "  0.0313,\n",
       "  0.0019,\n",
       "  0.0212,\n",
       "  1.9306,\n",
       "  0.0091,\n",
       "  0.1648,\n",
       "  0.0064,\n",
       "  1.474,\n",
       "  2.9797,\n",
       "  0.0067,\n",
       "  0.0212,\n",
       "  0,\n",
       "  0,\n",
       "  0,\n",
       "  7.0145,\n",
       "  0,\n",
       "  0,\n",
       "  0,\n",
       "  0,\n",
       "  0],\n",
       " 'units_string': 'TFT12_Bard, TFT12_Galio, TFT12_Mordekaiser, TFT12_Rakan, TFT12_Rumble, TFT12_TahmKench, TFT12_Tristana, TFT12_Zilean',\n",
       " 'traits_string': 'TFT12_Blaster_1, TFT12_Faerie_1, TFT12_Preserver_2, TFT12_Sugarcraft_1, TFT12_Vanguard_2',\n",
       " 'name': [{'name': 'TFT12_Augment_RumbleCarry',\n",
       "   'type': 'augment',\n",
       "   'score': 14.936799999999998},\n",
       "  {'name': 'TFT12_Rumble', 'type': 'unit', 'score': 4.099518514669715},\n",
       "  {'name': 'TFT12_Tristana', 'type': 'unit', 'score': 3.7059475562021547}],\n",
       " 'name_string': 'TFT12_Augment_RumbleCarry, TFT12_Tristana',\n",
       " 'top_headliner': [],\n",
       " 'overall': {'count': 86607, 'avg': 4.1394},\n",
       " 'stars': ['TFT12_Rumble',\n",
       "  'TFT12_Tristana',\n",
       "  'TFT12_Galio',\n",
       "  'TFT12_Hwei',\n",
       "  'TFT12_Wukong',\n",
       "  'TFT12_KogMaw',\n",
       "  'TFT12_Nunu',\n",
       "  'TFT12_Syndra'],\n",
       " 'stars_4': [],\n",
       " 'builds': [{'cluster': '0',\n",
       "   'count': 29046,\n",
       "   'avg': 3.6342,\n",
       "   'unit': 'TFT12_Rumble',\n",
       "   'buildName': ['TFT_Item_Bloodthirster',\n",
       "    'TFT_Item_JeweledGauntlet',\n",
       "    'TFT_Item_RabadonsDeathcap'],\n",
       "   'build': [],\n",
       "   'num_items': 3,\n",
       "   'score': 0.5812,\n",
       "   'place_change': -0.505,\n",
       "   'unit_numitems_count': 71965},\n",
       "  {'cluster': '0',\n",
       "   'count': 9653,\n",
       "   'avg': 3.6082,\n",
       "   'unit': 'TFT12_Tristana',\n",
       "   'buildName': ['TFT12_Item_Faerie_QueensCrown',\n",
       "    'TFT_Item_GuinsoosRageblade',\n",
       "    'TFT_Item_LastWhisper'],\n",
       "   'build': [],\n",
       "   'num_items': 3,\n",
       "   'score': 0.4343,\n",
       "   'place_change': -0.531,\n",
       "   'unit_numitems_count': 60945},\n",
       "  {'cluster': '0',\n",
       "   'count': 570,\n",
       "   'avg': 2.9614,\n",
       "   'unit': 'TFT12_Mordekaiser',\n",
       "   'buildName': ['TFT_Item_IonicSpark',\n",
       "    'TFT_Item_Redemption',\n",
       "    'TFT_Item_WarmogsArmor'],\n",
       "   'build': [],\n",
       "   'num_items': 3,\n",
       "   'score': 0.1854,\n",
       "   'place_change': -1.178,\n",
       "   'unit_numitems_count': 28228},\n",
       "  {'cluster': '0',\n",
       "   'count': 1479,\n",
       "   'avg': 3.2799,\n",
       "   'unit': 'TFT12_Galio',\n",
       "   'buildName': ['TFT_Item_GargoyleStoneplate',\n",
       "    'TFT_Item_IonicSpark',\n",
       "    'TFT_Item_WarmogsArmor'],\n",
       "   'build': [],\n",
       "   'num_items': 3,\n",
       "   'score': 0.1333,\n",
       "   'place_change': -0.86,\n",
       "   'unit_numitems_count': 20789}],\n",
       " 'build_items': {'TFT_Item_Bloodthirster': {'itemNames': 'TFT_Item_Bloodthirster',\n",
       "   'count': 74503,\n",
       "   'avg': 3.9874,\n",
       "   'pcnt': 0.86024},\n",
       "  'TFT_Item_JeweledGauntlet': {'itemNames': 'TFT_Item_JeweledGauntlet',\n",
       "   'count': 71274,\n",
       "   'avg': 3.905,\n",
       "   'pcnt': 0.82296},\n",
       "  'TFT12_Item_Faerie_QueensCrown': {'itemNames': 'TFT12_Item_Faerie_QueensCrown',\n",
       "   'count': 70712,\n",
       "   'avg': 3.8954,\n",
       "   'pcnt': 0.81647},\n",
       "  'TFT_Item_GuinsoosRageblade': {'itemNames': 'TFT_Item_GuinsoosRageblade',\n",
       "   'count': 58333,\n",
       "   'avg': 4.0688,\n",
       "   'pcnt': 0.67354},\n",
       "  'TFT_Item_GargoyleStoneplate': {'itemNames': 'TFT_Item_GargoyleStoneplate',\n",
       "   'count': 54604,\n",
       "   'avg': 3.8947,\n",
       "   'pcnt': 0.63048},\n",
       "  'TFT_Item_WarmogsArmor': {'itemNames': 'TFT_Item_WarmogsArmor',\n",
       "   'count': 46671,\n",
       "   'avg': 3.826,\n",
       "   'pcnt': 0.53888},\n",
       "  'TFT_Item_RabadonsDeathcap': {'itemNames': 'TFT_Item_RabadonsDeathcap',\n",
       "   'count': 46441,\n",
       "   'avg': 3.7503,\n",
       "   'pcnt': 0.53623},\n",
       "  'TFT_Item_Redemption': {'itemNames': 'TFT_Item_Redemption',\n",
       "   'count': 40667,\n",
       "   'avg': 3.8155,\n",
       "   'pcnt': 0.46956},\n",
       "  'TFT_Item_IonicSpark': {'itemNames': 'TFT_Item_IonicSpark',\n",
       "   'count': 27089,\n",
       "   'avg': 3.3415,\n",
       "   'pcnt': 0.31278},\n",
       "  'TFT_Item_LastWhisper': {'itemNames': 'TFT_Item_LastWhisper',\n",
       "   'count': 26958,\n",
       "   'avg': 3.8614,\n",
       "   'pcnt': 0.31127}},\n",
       " 'top_itemNames': [{'itemNames': 'TFT_Item_Bloodthirster',\n",
       "   'count': 74503,\n",
       "   'avg': 3.9874,\n",
       "   'pcnt': 0.86024},\n",
       "  {'itemNames': 'TFT_Item_JeweledGauntlet',\n",
       "   'count': 71274,\n",
       "   'avg': 3.905,\n",
       "   'pcnt': 0.82296},\n",
       "  {'itemNames': 'TFT12_Item_Faerie_QueensCrown',\n",
       "   'count': 70712,\n",
       "   'avg': 3.8954,\n",
       "   'pcnt': 0.81647},\n",
       "  {'itemNames': 'TFT_Item_GuinsoosRageblade',\n",
       "   'count': 58333,\n",
       "   'avg': 4.0688,\n",
       "   'pcnt': 0.67354},\n",
       "  {'itemNames': 'TFT_Item_GargoyleStoneplate',\n",
       "   'count': 54604,\n",
       "   'avg': 3.8947,\n",
       "   'pcnt': 0.63048},\n",
       "  {'itemNames': 'TFT_Item_WarmogsArmor',\n",
       "   'count': 46671,\n",
       "   'avg': 3.826,\n",
       "   'pcnt': 0.53888},\n",
       "  {'itemNames': 'TFT_Item_RabadonsDeathcap',\n",
       "   'count': 46441,\n",
       "   'avg': 3.7503,\n",
       "   'pcnt': 0.53623}],\n",
       " 'top_items': [],\n",
       " 'trends': [{'day': '2024-08-15T00:00:00.000Z',\n",
       "   'count': 4863,\n",
       "   'avg': 4.0829,\n",
       "   'pick': 0.010305913767708985},\n",
       "  {'day': '2024-08-16T00:00:00.000Z',\n",
       "   'count': 55459,\n",
       "   'avg': 4.0304,\n",
       "   'pick': 0.008152749948915764},\n",
       "  {'day': '2024-08-17T00:00:00.000Z',\n",
       "   'count': 68774,\n",
       "   'avg': 4.0073,\n",
       "   'pick': 0.008612579921896445},\n",
       "  {'day': '2024-08-18T00:00:00.000Z',\n",
       "   'count': 68226,\n",
       "   'avg': 3.972,\n",
       "   'pick': 0.009086652027016228},\n",
       "  {'day': '2024-08-19T00:00:00.000Z',\n",
       "   'count': 63478,\n",
       "   'avg': 3.9601,\n",
       "   'pick': 0.008940865606724734},\n",
       "  {'day': '2024-08-20T00:00:00.000Z',\n",
       "   'count': 60413,\n",
       "   'avg': 3.9929,\n",
       "   'pick': 0.008777244282652459},\n",
       "  {'day': '2024-08-21T00:00:00.000Z',\n",
       "   'count': 46261,\n",
       "   'avg': 4.1381,\n",
       "   'pick': 0.007037683194874803},\n",
       "  {'day': '2024-08-22T00:00:00.000Z',\n",
       "   'count': 34465,\n",
       "   'avg': 4.1334,\n",
       "   'pick': 0.006779334958354249}],\n",
       " 'top_augments': [{'aug': 'TFT12_Augment_RumbleCarry',\n",
       "   'count': 64682,\n",
       "   'avg': 3.932,\n",
       "   'pcnt': 0.74684}],\n",
       " 'diff_pick': 0.002,\n",
       " 'diff_place': 0.063,\n",
       " 'difficulty': -0.061,\n",
       " 'levelling': 'lvl 6'}"
      ]
     },
     "execution_count": 15,
     "metadata": {},
     "output_type": "execute_result"
    }
   ],
   "source": [
    "comp_clusters = q.idx('results.data.cluster_details')\n",
    "comp_clusters.idx('0').eval()"
   ]
  },
  {
   "cell_type": "code",
   "execution_count": 18,
   "metadata": {},
   "outputs": [
    {
     "name": "stdout",
     "output_type": "stream",
     "text": [
      "cluster_id\n",
      "tft_set\n",
      "cluster_details\n",
      "portals\n"
     ]
    }
   ],
   "source": [
    "q.idx('results.data').splay(0)"
   ]
  },
  {
   "cell_type": "code",
   "execution_count": 11,
   "metadata": {},
   "outputs": [
    {
     "data": {
      "text/plain": [
       "'\\n> clr            # Clear your current composition\\n> top            # Give me best compositions right now\\n> top zil        # Give me best compositions with Zilean.\\n> early zil      # Give me best early compositions with Zilean\\n> bi zil         # Give me best items for Zilean\\n> add zil twt ww # Stores Zilean, Twitch, and Warwick as part of your team.\\n> padd olaf      # If I add Olaf, what is the best composition?\\n> q Zilean       # Give me aliases for Zilean (zil, zi, Zilean)\\n'"
      ]
     },
     "execution_count": 11,
     "metadata": {},
     "output_type": "execute_result"
    }
   ],
   "source": [
    "\"\"\"\n",
    "> clr            # Clear your current composition\n",
    "> top            # Give me best compositions right now\n",
    "> top zil        # Give me best compositions with Zilean.\n",
    "> early zil      # Give me best early compositions with Zilean\n",
    "> bi zil         # Give me best items for Zilean\n",
    "> add zil twt ww # Stores Zilean, Twitch, and Warwick as part of your team.\n",
    "> padd olaf      # If I add Olaf, what is the best composition?\n",
    "> q Zilean       # Give me aliases for Zilean (zil, zi, Zilean)\n",
    "\"\"\""
   ]
  },
  {
   "cell_type": "code",
   "execution_count": 71,
   "metadata": {},
   "outputs": [
    {
     "data": {
      "text/plain": [
       "{'en_name': \"Rabadon's Deathcap\", 'effects': 50}"
      ]
     },
     "execution_count": 71,
     "metadata": {},
     "output_type": "execute_result"
    }
   ],
   "source": [
    "q2.idx('items').filter(ql.idx('composition').len().eq(2)).idx('0').sub({\n",
    "    'en_name': ql.query(),\n",
    "    'effects': ql.idx('AP')\n",
    "}).eval()\n",
    "# a = {\n",
    "#     \"a\": [\n",
    "#         {\n",
    "#             \"name\": \"Bob\",\n",
    "#             \"eyes\": \"blue\"\n",
    "#         },\n",
    "#         {\n",
    "#             \"name\": \"Joe\",\n",
    "#             \"eyes\": \"brown\"\n",
    "#         }\n",
    "#     ]\n",
    "# }\n",
    "\n",
    "# ql.query(a).idx(\"a\").filter(ql.idx('eyes').eq('blue')).idx('name').eval()\n",
    "\n"
   ]
  },
  {
   "cell_type": "code",
   "execution_count": 64,
   "metadata": {},
   "outputs": [
    {
     "data": {
      "text/plain": [
       "{0: 'Zilean',\n",
       " 1: 'Twitch',\n",
       " 2: 'Warwick',\n",
       " 3: 'Hwei',\n",
       " 4: 'Diana',\n",
       " 5: 'Swain',\n",
       " 6: 'Olaf'}"
      ]
     },
     "execution_count": 64,
     "metadata": {},
     "output_type": "execute_result"
    }
   ],
   "source": [
    "champions.filter(ql.idx('traits').contains('Frost')).map(ql.idx('en_name')).eval()\n"
   ]
  },
  {
   "cell_type": "code",
   "execution_count": null,
   "metadata": {},
   "outputs": [],
   "source": []
  }
 ],
 "metadata": {
  "kernelspec": {
   "display_name": "tft-4lNynLs3-py3.12",
   "language": "python",
   "name": "python3"
  },
  "language_info": {
   "codemirror_mode": {
    "name": "ipython",
    "version": 3
   },
   "file_extension": ".py",
   "mimetype": "text/x-python",
   "name": "python",
   "nbconvert_exporter": "python",
   "pygments_lexer": "ipython3",
   "version": "3.12.1"
  }
 },
 "nbformat": 4,
 "nbformat_minor": 2
}
