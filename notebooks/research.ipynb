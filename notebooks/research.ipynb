{
 "cells": [
  {
   "cell_type": "code",
   "execution_count": 2,
   "metadata": {},
   "outputs": [],
   "source": [
    "import tft.ql.expr as ql\n",
    "from tft.ql.util import *\n",
    "from tft.client.meta import *"
   ]
  },
  {
   "cell_type": "code",
   "execution_count": 3,
   "metadata": {},
   "outputs": [],
   "source": [
    "client = MetaTFTClient()\n",
    "comps = client.fetch(MetaTFTApis.COMPS_DATA)\n",
    "set_data = client.fetch(MetaTFTApis.SET_DATA)"
   ]
  },
  {
   "cell_type": "code",
   "execution_count": 4,
   "metadata": {},
   "outputs": [],
   "source": [
    "q = ql.query(comps)\n",
    "q2 = ql.query(set_data)"
   ]
  },
  {
   "cell_type": "code",
   "execution_count": 5,
   "metadata": {},
   "outputs": [
    {
     "name": "stdout",
     "output_type": "stream",
     "text": [
      "apiName\n",
      "  TFT_Item_RabadonsDeathcap\n",
      "associatedTraits\n",
      "  [0]\n",
      "composition\n",
      "  [2]\n",
      "    TFT_Item_NeedlesslyLargeRod\n",
      "desc\n",
      "  \n",
      "effects\n",
      "  AP\n",
      "    50\n",
      "  BonusDamage\n",
      "    0.20000000298023224\n",
      "  {1543aa48}\n",
      "    0.20000000298023224\n",
      "from\n",
      "  None\n",
      "icon\n",
      "  ASSETS/Maps/Particles/TFT/Item_Icons/Standard/Rabadons_Deathcap.tex\n",
      "id\n",
      "  None\n",
      "incompatibleTraits\n",
      "  [0]\n",
      "name\n",
      "  Rabadon's Deathcap\n",
      "unique\n",
      "  False\n",
      "en_name\n",
      "  Rabadon's Deathcap\n",
      "tags\n",
      "  [0]\n"
     ]
    }
   ],
   "source": [
    "# All item data.\n",
    "# Splay displays nested fields for a query.\n",
    "# [X] means its a list and the first one is picked.\n",
    "q2.idx('items.0').splay()"
   ]
  },
  {
   "cell_type": "code",
   "execution_count": 6,
   "metadata": {},
   "outputs": [
    {
     "data": {
      "text/plain": [
       "{0: \"Rabadon's Deathcap\",\n",
       " 1: 'Infinity Edge',\n",
       " 2: \"Protector's Vow\",\n",
       " 3: 'Redemption',\n",
       " 4: 'Sugarcraft Emblem',\n",
       " 5: 'Honeymancy Emblem',\n",
       " 6: 'Faerie Emblem',\n",
       " 7: 'Frost Emblem',\n",
       " 8: 'Witchcraft Emblem',\n",
       " 9: 'Eldritch Emblem',\n",
       " 10: 'Pyro Emblem',\n",
       " 11: 'Portal Emblem',\n",
       " 12: \"Thief's Gloves\",\n",
       " 13: \"Guinsoo's Rageblade\",\n",
       " 14: 'Ionic Spark',\n",
       " 15: \"Sterak's Gage\",\n",
       " 16: \"Dragon's Claw\",\n",
       " 17: 'Guardbreaker',\n",
       " 18: 'Gargoyle Stoneplate',\n",
       " 19: 'Bramble Vest',\n",
       " 20: 'Giant Slayer',\n",
       " 21: 'Sunfire Cape',\n",
       " 22: 'Hand Of Justice',\n",
       " 23: 'Edge of Night',\n",
       " 24: \"Titan's Resolve\",\n",
       " 25: \"Runaan's Hurricane\",\n",
       " 26: 'Bloodthirster',\n",
       " 27: \"Archangel's Staff\",\n",
       " 28: 'Spear of Shojin',\n",
       " 29: 'Evenshroud',\n",
       " 30: \"Nashor's Tooth\",\n",
       " 31: 'Morellonomicon',\n",
       " 32: 'Red Buff',\n",
       " 33: 'Crownguard',\n",
       " 34: 'Adaptive Helm',\n",
       " 35: 'Blue Buff',\n",
       " 36: 'Last Whisper',\n",
       " 37: 'Jeweled Gauntlet',\n",
       " 38: 'Steadfast Heart',\n",
       " 39: \"Tactician's Crown\",\n",
       " 40: 'Quicksilver',\n",
       " 41: 'Deathblade',\n",
       " 42: \"Warmog's Armor\",\n",
       " 43: 'Statikk Shiv',\n",
       " 44: 'Hextech Gunblade'}"
      ]
     },
     "execution_count": 6,
     "metadata": {},
     "output_type": "execute_result"
    }
   ],
   "source": [
    "# Buildable items.\n",
    "buildable_items = q2.idx('items').filter(ql.idx('composition').len().eq(2))\n",
    "# buildable_items.map(ql.idx('apiName')).vals().eval() # Names.\n",
    "buildable_items.map(ql.idx('en_name')).eval()"
   ]
  },
  {
   "cell_type": "code",
   "execution_count": 7,
   "metadata": {},
   "outputs": [
    {
     "data": {
      "text/plain": [
       "['TFT_Item_ChainVest',\n",
       " 'TFT_Item_RecurveBow',\n",
       " 'TFT_Item_TearOfTheGoddess',\n",
       " 'TFT_Item_NegatronCloak',\n",
       " 'TFT_Item_SparringGloves',\n",
       " 'TFT_Item_Spatula',\n",
       " 'TFT_Item_BFSword',\n",
       " 'TFT_Item_GiantsBelt',\n",
       " 'TFT_Item_NeedlesslyLargeRod']"
      ]
     },
     "execution_count": 7,
     "metadata": {},
     "output_type": "execute_result"
    }
   ],
   "source": [
    "# Base components names.\n",
    "component_names = buildable_items.map(ql.idx('composition')).vals().flatten().uniq().eval()\n",
    "component_items = q2.idx('items').filter(ql.idx('apiName').in_set(component_names))\n",
    "component_items.map(ql.idx('apiName')).vals().eval()"
   ]
  },
  {
   "cell_type": "code",
   "execution_count": 8,
   "metadata": {},
   "outputs": [
    {
     "data": {
      "text/plain": [
       "['TFT12_Item_SugarcraftEmblemItem',\n",
       " 'TFT12_Item_BlasterEmblemItem',\n",
       " 'TFT12_Item_VanguardEmblemItem',\n",
       " 'TFT12_Item_ScholarEmblemItem',\n",
       " 'TFT12_Item_ChronoEmblemItem',\n",
       " 'TFT12_Item_HoneymancyEmblemItem',\n",
       " 'TFT12_Item_PreserverEmblemItem',\n",
       " 'TFT12_Item_ArcanaEmblemItem',\n",
       " 'TFT12_Item_MageEmblemItem',\n",
       " 'TFT12_Item_FaerieEmblemItem',\n",
       " 'TFT12_Item_BastionEmblemItem',\n",
       " 'TFT12_Item_WarriorEmblemItem',\n",
       " 'TFT12_Item_IncantorEmblemItem',\n",
       " 'TFT12_Item_FrostEmblemItem',\n",
       " 'TFT12_Item_WitchcraftEmblemItem',\n",
       " 'TFT12_Item_MultistrikerEmblemItem',\n",
       " 'TFT12_Item_ShapeshifterEmblemItem',\n",
       " 'TFT12_Item_EldritchEmblemItem',\n",
       " 'TFT12_Item_PyroEmblemItem',\n",
       " 'TFT12_Item_HunterEmblemItem',\n",
       " 'TFT12_Item_PortalEmblemItem']"
      ]
     },
     "execution_count": 8,
     "metadata": {},
     "output_type": "execute_result"
    }
   ],
   "source": [
    "# Emblem items.\n",
    "emblems = q2.idx('items').filter(ql.idx('apiName').contains('Emblem'))\n",
    "emblems.map(ql.idx('apiName')).vals().eval()"
   ]
  },
  {
   "cell_type": "code",
   "execution_count": 9,
   "metadata": {},
   "outputs": [
    {
     "data": {
      "text/plain": [
       "'TFTSet12'"
      ]
     },
     "execution_count": 9,
     "metadata": {},
     "output_type": "execute_result"
    }
   ],
   "source": [
    "# TFT set\n",
    "q.idx('tft_set').eval()"
   ]
  },
  {
   "cell_type": "code",
   "execution_count": 10,
   "metadata": {},
   "outputs": [
    {
     "data": {
      "text/plain": [
       "{0: 'Zilean',\n",
       " 1: 'Twitch',\n",
       " 2: 'Warwick',\n",
       " 3: 'Hwei',\n",
       " 4: 'Diana',\n",
       " 5: 'Jax',\n",
       " 6: 'Vex',\n",
       " 7: 'Smolder',\n",
       " 8: 'Karma',\n",
       " 9: 'Camille',\n",
       " 10: 'Blitzcrank',\n",
       " 11: 'Elise',\n",
       " 12: 'Jayce',\n",
       " 13: 'Tristana',\n",
       " 14: 'Ashe',\n",
       " 15: 'Zoe',\n",
       " 16: 'Nilah',\n",
       " 17: 'Kassadin',\n",
       " 18: \"Kog'Maw\",\n",
       " 19: 'Cassiopeia',\n",
       " 20: 'Syndra',\n",
       " 21: 'Nunu',\n",
       " 22: 'Katarina',\n",
       " 23: 'Hecarim',\n",
       " 24: 'Neeko',\n",
       " 25: 'Ezreal',\n",
       " 26: 'Jinx',\n",
       " 27: 'Veigar',\n",
       " 28: 'Bard',\n",
       " 29: 'Lillia',\n",
       " 30: 'Mordekaiser',\n",
       " 31: 'Fiora',\n",
       " 32: 'Gwen',\n",
       " 33: 'Rakan',\n",
       " 34: 'Tahm Kench',\n",
       " 35: 'Kalista',\n",
       " 36: 'Ryze',\n",
       " 37: 'Nami',\n",
       " 38: 'Briar',\n",
       " 39: 'Morgana',\n",
       " 40: 'Xerath',\n",
       " 41: 'Milio',\n",
       " 42: 'Norra & Yuumi',\n",
       " 43: 'Nomsy',\n",
       " 44: 'Varus',\n",
       " 45: 'Nasus',\n",
       " 46: 'Akali',\n",
       " 47: 'Taric',\n",
       " 48: 'Galio',\n",
       " 49: 'Shen',\n",
       " 50: 'Shyvana',\n",
       " 51: 'Poppy',\n",
       " 52: 'Rumble',\n",
       " 53: 'Ziggs',\n",
       " 54: 'Swain',\n",
       " 55: 'Ahri',\n",
       " 56: 'Soraka',\n",
       " 57: 'Seraphine',\n",
       " 58: 'Olaf',\n",
       " 59: 'Wukong'}"
      ]
     },
     "execution_count": 10,
     "metadata": {},
     "output_type": "execute_result"
    }
   ],
   "source": [
    "champions = q2.idx('units').filter(ql.idx('traits').len().gt(0))\n",
    "champions.map(ql.idx('en_name')).eval()"
   ]
  },
  {
   "cell_type": "code",
   "execution_count": 24,
   "metadata": {},
   "outputs": [
    {
     "name": "stdout",
     "output_type": "stream",
     "text": [
      "Cluster\n",
      "  0\n",
      "centroid\n",
      "  [94]\n",
      "units_string\n",
      "  TFT12_Bard, TFT12_Galio, TFT12_Mordekaiser, TFT12_Rakan, TFT12_Rumble, TFT12_TahmKench, TFT12_Tristana, TFT12_Zilean\n",
      "traits_string\n",
      "  TFT12_Blaster_1, TFT12_Faerie_1, TFT12_Preserver_2, TFT12_Sugarcraft_1, TFT12_Vanguard_2\n",
      "name\n",
      "  [3]\n",
      "name_string\n",
      "  TFT12_Augment_RumbleCarry, TFT12_Tristana\n",
      "top_headliner\n",
      "  [0]\n",
      "overall\n",
      "  count\n",
      "  avg\n",
      "stars\n",
      "  [8]\n",
      "stars_4\n",
      "  [0]\n",
      "builds\n",
      "  [4]\n",
      "build_items\n",
      "  TFT_Item_Bloodthirster\n",
      "  TFT_Item_JeweledGauntlet\n",
      "  TFT12_Item_Faerie_QueensCrown\n",
      "  TFT_Item_GuinsoosRageblade\n",
      "  TFT_Item_GargoyleStoneplate\n",
      "  TFT_Item_WarmogsArmor\n",
      "  TFT_Item_RabadonsDeathcap\n",
      "  TFT_Item_Redemption\n",
      "  TFT_Item_IonicSpark\n",
      "  TFT_Item_LastWhisper\n",
      "top_itemNames\n",
      "  [7]\n",
      "top_items\n",
      "  [0]\n",
      "trends\n",
      "  [8]\n",
      "top_augments\n",
      "  [1]\n",
      "diff_pick\n",
      "  0.002\n",
      "diff_place\n",
      "  0.063\n",
      "difficulty\n",
      "  -0.061\n",
      "levelling\n",
      "  lvl 6\n"
     ]
    }
   ],
   "source": [
    "comp_clusters = q.idx('results.data.cluster_details')\n",
    "comp_clusters.idx('0').splay(1)"
   ]
  },
  {
   "cell_type": "code",
   "execution_count": 12,
   "metadata": {},
   "outputs": [
    {
     "data": {
      "text/plain": [
       "'\\n> clr            # Clear your current composition\\n> top            # Give me best compositions right now\\n> top zil        # Give me best compositions with Zilean.\\n> early zil      # Give me best early compositions with Zilean\\n> bi zil         # Give me best items for Zilean\\n> add zil twt ww # Stores Zilean, Twitch, and Warwick as part of your team.\\n> padd olaf      # If I add Olaf, what is the best composition?\\n> q Zilean       # Give me aliases for Zilean (zil, zi, Zilean)\\n'"
      ]
     },
     "execution_count": 12,
     "metadata": {},
     "output_type": "execute_result"
    }
   ],
   "source": [
    "\"\"\"\n",
    "> clr            # Clear your current composition\n",
    "> top            # Give me best compositions right now\n",
    "> top zil        # Give me best compositions with Zilean.\n",
    "> early zil      # Give me best early compositions with Zilean\n",
    "> bi zil         # Give me best items for Zilean\n",
    "> add zil twt ww # Stores Zilean, Twitch, and Warwick as part of your team.\n",
    "> padd olaf      # If I add Olaf, what is the best composition?\n",
    "> q Zilean       # Give me aliases for Zilean (zil, zi, Zilean)\n",
    "\"\"\""
   ]
  },
  {
   "cell_type": "code",
   "execution_count": null,
   "metadata": {},
   "outputs": [],
   "source": []
  },
  {
   "cell_type": "code",
   "execution_count": null,
   "metadata": {},
   "outputs": [],
   "source": []
  }
 ],
 "metadata": {
  "kernelspec": {
   "display_name": "tft-4lNynLs3-py3.12",
   "language": "python",
   "name": "python3"
  },
  "language_info": {
   "codemirror_mode": {
    "name": "ipython",
    "version": 3
   },
   "file_extension": ".py",
   "mimetype": "text/x-python",
   "name": "python",
   "nbconvert_exporter": "python",
   "pygments_lexer": "ipython3",
   "version": "3.12.1"
  }
 },
 "nbformat": 4,
 "nbformat_minor": 2
}
