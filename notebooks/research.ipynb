{
 "cells": [
  {
   "cell_type": "code",
   "execution_count": 1,
   "metadata": {},
   "outputs": [],
   "source": [
    "from tft.ql.expr import *\n",
    "from tft.ql.util import *\n",
    "from tft.client.meta import *"
   ]
  },
  {
   "cell_type": "code",
   "execution_count": 2,
   "metadata": {},
   "outputs": [],
   "source": [
    "client = MetaTFTClient()\n",
    "comps = client.fetch(MetaTFTApis.COMPS_DATA)\n",
    "set_data = client.fetch(MetaTFTApis.SET_DATA)"
   ]
  },
  {
   "cell_type": "code",
   "execution_count": 3,
   "metadata": {},
   "outputs": [],
   "source": [
    "q = query(comps)\n",
    "q2 = query(set_data)"
   ]
  },
  {
   "cell_type": "code",
   "execution_count": 11,
   "metadata": {},
   "outputs": [
    {
     "data": {
      "text/plain": [
       "{0: 'TFT_Item_RabadonsDeathcap',\n",
       " 1: 'TFT_Item_InfinityEdge',\n",
       " 2: 'TFT5_Item_DragonsClawRadiant',\n",
       " 3: 'TFT5_Item_TrapClawRadiant',\n",
       " 4: 'TFT5_Item_IonicSparkRadiant',\n",
       " 5: 'TFT5_Item_QuicksilverRadiant',\n",
       " 6: 'TFT5_Item_HextechGunbladeRadiant',\n",
       " 7: 'TFT5_Item_StatikkShivRadiant',\n",
       " 8: 'TFT5_Item_FrozenHeartRadiant',\n",
       " 9: 'TFT5_Item_BlueBuffRadiant',\n",
       " 10: 'TFT5_Item_ArchangelsStaffRadiant',\n",
       " 11: 'TFT5_Item_MorellonomiconRadiant',\n",
       " 12: 'TFT5_Item_BrambleVestRadiant',\n",
       " 13: 'TFT5_Item_ZzRotPortalRadiant',\n",
       " 14: 'TFT5_Item_RunaansHurricaneRadiant',\n",
       " 15: 'TFT5_Item_GuinsoosRagebladeRadiant',\n",
       " 16: 'TFT5_Item_HandOfJusticeRadiant',\n",
       " 17: 'TFT5_Item_SunfireCapeRadiant',\n",
       " 18: 'TFT5_Item_LastWhisperRadiant',\n",
       " 19: 'TFT5_Item_ThiefsGlovesRadiant',\n",
       " 20: 'TFT5_Item_WarmogsArmorRadiant',\n",
       " 21: 'TFT5_Item_SteraksGageRadiant',\n",
       " 22: 'TFT5_Item_RedemptionRadiant',\n",
       " 23: 'TFT5_Item_GuardianAngelRadiant',\n",
       " 24: 'TFT5_Item_RapidFirecannonRadiant',\n",
       " 25: 'TFT5_Item_NightHarvesterRadiant',\n",
       " 26: 'TFT5_Item_TitansResolveRadiant',\n",
       " 27: 'TFT5_Item_GiantSlayerRadiant',\n",
       " 28: 'TFT5_Item_CrownguardRadiant',\n",
       " 29: 'TFT5_Item_BloodthirsterRadiant',\n",
       " 30: 'TFT5_Item_RabadonsDeathcapRadiant',\n",
       " 31: 'TFT5_Item_JeweledGauntletRadiant',\n",
       " 32: 'TFT5_Item_GargoyleStoneplateRadiant',\n",
       " 33: 'TFT5_Item_LeviathanRadiant',\n",
       " 34: 'TFT5_Item_SpearOfShojinRadiant',\n",
       " 35: 'TFT5_Item_SpectralGauntletRadiant',\n",
       " 36: 'TFT5_Item_InfinityEdgeRadiant',\n",
       " 37: 'TFT5_Item_DeathbladeRadiant',\n",
       " 38: 'TFT5_Item_AdaptiveHelmRadiant',\n",
       " 39: 'TFT_Item_Artifact_InnervatingLocket',\n",
       " 40: 'TFT12_Doodad_ToughCookie',\n",
       " 41: 'TFT_Item_FrozenHeart',\n",
       " 42: 'TFT_Item_DebugCrit',\n",
       " 43: 'TFT_Assist_TacticiansCrown',\n",
       " 44: 'TFT_Assist_ThiefsGloves',\n",
       " 45: 'TFT_Assist_Spatula',\n",
       " 46: 'TFT9_Item_OrnnHullbreaker',\n",
       " 47: 'TFT_Item_Shroud',\n",
       " 48: 'TFT12_Item_Arcana_Signifier',\n",
       " 49: 'TFT12_Item_Faerie_QueensCrownRadiant',\n",
       " 50: 'TFT12_Item_Faerie_QueensCrown',\n",
       " 51: 'TFT12_Item_MilioThreeStar_CursedQuicksilver',\n",
       " 52: 'TFT12_Item_Bound_LightSnack',\n",
       " 53: 'TFT12_Item_MilioThreeStar_CursedGuinsoosRageblade',\n",
       " 54: 'TFT12_Item_MilioThreeStar_CursedHextechGunblade',\n",
       " 55: 'TFT12_Item_Faerie_Armor',\n",
       " 56: 'TFT12_Item_Faerie_ArmorRadiant',\n",
       " 57: 'TFT_Item_Redemption',\n",
       " 58: 'TFT_Item_BansheesVeil',\n",
       " 59: 'TFT12_Item_SugarcraftEmblemItem',\n",
       " 60: 'TFT12_Item_BlasterEmblemItem',\n",
       " 61: 'TFT12_Item_VanguardEmblemItem',\n",
       " 62: 'TFT12_Item_ScholarEmblemItem',\n",
       " 63: 'TFT12_Item_ChronoEmblemItem',\n",
       " 64: 'TFT12_Item_HoneymancyEmblemItem',\n",
       " 65: 'TFT12_Item_PreserverEmblemItem',\n",
       " 66: 'TFT12_Item_ArcanaEmblemItem',\n",
       " 67: 'TFT12_Item_MageEmblemItem',\n",
       " 68: 'TFT12_Item_FaerieEmblemItem',\n",
       " 69: 'TFT12_Item_BastionEmblemItem',\n",
       " 70: 'TFT12_Item_WarriorEmblemItem',\n",
       " 71: 'TFT12_Item_IncantorEmblemItem',\n",
       " 72: 'TFT12_Item_FrostEmblemItem',\n",
       " 73: 'TFT12_Item_WitchcraftEmblemItem',\n",
       " 74: 'TFT12_Item_MultistrikerEmblemItem',\n",
       " 75: 'TFT12_Item_ShapeshifterEmblemItem',\n",
       " 76: 'TFT12_Item_EldritchEmblemItem',\n",
       " 77: 'TFT12_Item_PyroEmblemItem',\n",
       " 78: 'TFT12_Item_HunterEmblemItem',\n",
       " 79: 'TFT12_Item_PortalEmblemItem',\n",
       " 80: 'TFT_Item_Zephyr',\n",
       " 81: 'TFT4_Item_OrnnMuramana',\n",
       " 82: 'TFT7_Item_ShimmerscaleMogulsMail',\n",
       " 83: 'TFT7_Item_ShimmerscaleGamblersBlade_HR',\n",
       " 84: 'TFT7_Item_ShimmerscaleHeartOfGold',\n",
       " 85: 'TFT7_Item_ShimmerscaleGamblersBlade',\n",
       " 86: 'TFT7_Item_ShimmerscaleDeterminedInvestor',\n",
       " 87: 'TFT7_Item_ShimmerscaleHeartOfGold_HR',\n",
       " 88: 'TFT7_Item_ShimmerscaleDiamondHands',\n",
       " 89: 'TFT9_Item_OrnnTrickstersGlass',\n",
       " 90: 'TFT_Item_ZekesHerald',\n",
       " 91: 'TFT_Item_ThiefsGloves',\n",
       " 92: 'TFT_Item_GuinsoosRageblade',\n",
       " 93: 'TFT_Item_IonicSpark',\n",
       " 94: 'TFT_Item_SteraksGage',\n",
       " 95: 'TFT_Item_DragonsClaw',\n",
       " 96: 'TFT_Item_DebugFirstHit',\n",
       " 97: 'TFT_Item_Artifact_LichBane',\n",
       " 98: 'TFT_Item_PowerGauntlet',\n",
       " 99: 'TFT_Item_SentinelSwarm',\n",
       " 100: 'TFT_Item_Artifact_ForbiddenIdol',\n",
       " 101: 'TFT_Item_DebugShield',\n",
       " 102: 'TFT_Item_DebugDamage',\n",
       " 103: 'TFT_Item_DebugStun',\n",
       " 104: 'TFT_Item_Artifact_Fishbones',\n",
       " 105: 'TFT4_Item_OrnnAnimaVisage',\n",
       " 106: 'TFT_Item_GargoyleStoneplate',\n",
       " 107: 'TFT_Item_BrambleVest',\n",
       " 108: 'TFT_Item_DebugBase',\n",
       " 109: 'TFT_Item_ChainVest',\n",
       " 110: 'TFT_Item_Artifact_UnendingDespair',\n",
       " 111: 'TFT4_Item_OrnnEternalWinter',\n",
       " 112: 'TFT_Item_RecurveBow',\n",
       " 113: 'TFT_Item_MadredsBloodrazor',\n",
       " 114: 'TFT4_Item_OrnnObsidianCleaver',\n",
       " 115: 'TFT_Item_RedBuff',\n",
       " 116: 'TFT_Item_RadiantVirtue',\n",
       " 117: 'TFT_Item_UnstableConcoction',\n",
       " 118: 'TFT_Item_GuardianAngel',\n",
       " 119: 'TFT_Item_TearOfTheGoddess',\n",
       " 120: 'TFT4_Item_OrnnZhonyasParadox',\n",
       " 121: 'TFT_Item_NegatronCloak',\n",
       " 122: 'TFT_Item_TitansResolve',\n",
       " 123: 'TFT_Item_SupportKnightsVow',\n",
       " 124: 'TFT_Item_Artifact_LudensTempest',\n",
       " 125: 'TFT_Item_Artifact_SpectralCutlass',\n",
       " 126: 'TFT_Item_RunaansHurricane',\n",
       " 127: 'TFT_Item_DebugDamageAmp',\n",
       " 128: 'TFT_Item_SparringGloves',\n",
       " 129: 'TFT_Item_Artifact_RapidFirecannon',\n",
       " 130: 'TFT_Item_Bloodthirster',\n",
       " 131: 'TFT9_Item_OrnnHorizonFocus',\n",
       " 132: 'TFT_Item_UnstableTreasureChest',\n",
       " 133: 'TFT_Item_ArchangelsStaff',\n",
       " 134: 'TFT_Item_DebugTaunt',\n",
       " 135: 'TFT_Item_DebugMana',\n",
       " 136: 'TFT_Item_TitanicHydra',\n",
       " 137: 'TFT_Item_EternalFlame',\n",
       " 138: 'TFT_Item_Artifact_LightshieldCrest',\n",
       " 139: 'TFT4_Item_OrnnDeathsDefiance',\n",
       " 140: 'TFT_Item_SpearOfShojin',\n",
       " 141: 'TFT_Item_SpectralGauntlet',\n",
       " 142: 'TFT_Item_Spatula',\n",
       " 143: 'TFT9_Item_OrnnPrototypeForge',\n",
       " 144: 'TFT_Item_Artifact_BlightingJewel',\n",
       " 145: 'TFT_Item_Artifact_TalismanOfAscension',\n",
       " 146: 'TFT4_Item_OrnnInfinityForce',\n",
       " 147: 'TFT_Item_LocketOfTheIronSolari',\n",
       " 148: 'TFT_Item_Leviathan',\n",
       " 149: 'TFT_Item_Artifact_SuspiciousTrenchCoat',\n",
       " 150: 'TFT_Item_Morellonomicon',\n",
       " 151: 'TFT_Item_RapidFireCannon',\n",
       " 152: 'TFT_Item_Crownguard',\n",
       " 153: 'TFT_Item_BFSword',\n",
       " 154: 'TFT_Item_Artifact_Mittens',\n",
       " 155: 'TFT_Item_AdaptiveHelm',\n",
       " 156: 'TFT9_Item_OrnnDeathfireGrasp',\n",
       " 157: 'TFT_Item_Spite',\n",
       " 158: 'TFT_Item_BlueBuff',\n",
       " 159: 'TFT_Item_Artifact_CursedVampiricScepter',\n",
       " 160: 'TFT_Item_LastWhisper',\n",
       " 161: 'TFT_Item_JeweledGauntlet',\n",
       " 162: 'TFT_Item_GiantsBelt',\n",
       " 163: 'TFT_Item_DebugUnitID',\n",
       " 164: 'TFT_Item_Artifact_WitsEnd',\n",
       " 165: 'TFT_Item_NeedlesslyLargeRod',\n",
       " 166: 'TFT_Item_Artifact_HorizonFocus',\n",
       " 167: 'TFT4_Item_OrnnRanduinsSanctum',\n",
       " 168: 'TFT_Item_NightHarvester',\n",
       " 169: 'TFT_Item_Artifact_ProwlersClaw',\n",
       " 170: 'TFT_Item_Moonstone',\n",
       " 171: 'TFT_Item_ForceOfNature',\n",
       " 172: 'TFT_Item_AegisOfTheLegion',\n",
       " 173: 'TFT_Item_Quicksilver',\n",
       " 174: 'TFT_Item_Deathblade',\n",
       " 175: 'TFT_Item_Chalice',\n",
       " 176: 'TFT_Item_Artifact_SilvermereDawn',\n",
       " 177: 'TFT11_Item_ThiefsGlovesSupport',\n",
       " 178: 'TFT_Item_WarmogsArmor',\n",
       " 179: 'TFT_Item_Artifact_SeekersArmguard',\n",
       " 180: 'TFT_Item_StatikkShiv',\n",
       " 181: 'TFT4_Item_OrnnTheCollector',\n",
       " 182: 'TFT_Item_UnusableSlot',\n",
       " 183: 'TFT_Item_HextechGunblade'}"
      ]
     },
     "execution_count": 11,
     "metadata": {},
     "output_type": "execute_result"
    }
   ],
   "source": [
    "q2.select('items').map().select('apiName').eval()"
   ]
  },
  {
   "cell_type": "code",
   "execution_count": 5,
   "metadata": {},
   "outputs": [
    {
     "data": {
      "text/plain": [
       "'TFTSet12'"
      ]
     },
     "execution_count": 5,
     "metadata": {},
     "output_type": "execute_result"
    }
   ],
   "source": [
    "# TFT set\n",
    "q.select('tft_set').eval()"
   ]
  },
  {
   "cell_type": "code",
   "execution_count": 6,
   "metadata": {},
   "outputs": [
    {
     "name": "stdout",
     "output_type": "stream",
     "text": [
      "TFT12_Bard, TFT12_Galio, TFT12_Mordekaiser, TFT12_Rakan, TFT12_Rumble, TFT12_TahmKench, TFT12_Tristana, TFT12_Zilean\n"
     ]
    }
   ],
   "source": [
    "q.select('results.data.cluster_details.0.units_string').splay(depth=0)"
   ]
  },
  {
   "cell_type": "code",
   "execution_count": null,
   "metadata": {},
   "outputs": [],
   "source": []
  },
  {
   "cell_type": "code",
   "execution_count": 7,
   "metadata": {},
   "outputs": [
    {
     "data": {
      "text/plain": [
       "'\\n> clr            # Clear your current composition\\n> top            # Give me best compositions right now\\n> top zil        # Give me best compositions with Zilean.\\n> early zil      # Give me best early compositions with Zilean\\n> bi zil         # Give me best items for Zilean\\n> add zil twt ww # Stores Zilean, Twitch, and Warwick as part of your team.\\n> padd olaf      # If I add Olaf, what is the best composition?\\n> q Zilean       # Give me aliases for Zilean (zil, zi, Zilean)\\n'"
      ]
     },
     "execution_count": 7,
     "metadata": {},
     "output_type": "execute_result"
    }
   ],
   "source": [
    "\"\"\"\n",
    "> clr            # Clear your current composition\n",
    "> top            # Give me best compositions right now\n",
    "> top zil        # Give me best compositions with Zilean.\n",
    "> early zil      # Give me best early compositions with Zilean\n",
    "> bi zil         # Give me best items for Zilean\n",
    "> add zil twt ww # Stores Zilean, Twitch, and Warwick as part of your team.\n",
    "> padd olaf      # If I add Olaf, what is the best composition?\n",
    "> q Zilean       # Give me aliases for Zilean (zil, zi, Zilean)\n",
    "\"\"\""
   ]
  },
  {
   "cell_type": "code",
   "execution_count": null,
   "metadata": {},
   "outputs": [],
   "source": []
  },
  {
   "cell_type": "code",
   "execution_count": null,
   "metadata": {},
   "outputs": [],
   "source": []
  }
 ],
 "metadata": {
  "kernelspec": {
   "display_name": "tft-4lNynLs3-py3.12",
   "language": "python",
   "name": "python3"
  },
  "language_info": {
   "codemirror_mode": {
    "name": "ipython",
    "version": 3
   },
   "file_extension": ".py",
   "mimetype": "text/x-python",
   "name": "python",
   "nbconvert_exporter": "python",
   "pygments_lexer": "ipython3",
   "version": "3.12.1"
  }
 },
 "nbformat": 4,
 "nbformat_minor": 2
}
