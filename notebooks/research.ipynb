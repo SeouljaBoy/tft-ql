{
 "cells": [
  {
   "cell_type": "code",
   "execution_count": 1,
   "metadata": {},
   "outputs": [],
   "source": [
    "from tft.ql.expr import *\n",
    "from tft.ql.util import *\n",
    "from tft.client.meta import *"
   ]
  },
  {
   "cell_type": "code",
   "execution_count": 2,
   "metadata": {},
   "outputs": [],
   "source": [
    "client = MetaTFTClient()\n",
    "comps = client.query(MetaTFTApis.COMPS_DATA)\n",
    "set_data = client.query(MetaTFTApis.SET_DATA)"
   ]
  },
  {
   "cell_type": "code",
   "execution_count": 3,
   "metadata": {},
   "outputs": [],
   "source": [
    "q = Query(comps)\n",
    "q2 = Query(set_data)"
   ]
  },
  {
   "cell_type": "code",
   "execution_count": 4,
   "metadata": {},
   "outputs": [
    {
     "name": "stdout",
     "output_type": "stream",
     "text": [
      "0\n",
      "  TFT_Item_RabadonsDeathcap\n",
      "1\n",
      "  TFT_Item_InfinityEdge\n",
      "2\n",
      "  TFT5_Item_DragonsClawRadiant\n"
     ]
    }
   ],
   "source": [
    "q2.select('items').top(3).map().select('apiName').splay()"
   ]
  },
  {
   "cell_type": "code",
   "execution_count": 5,
   "metadata": {},
   "outputs": [
    {
     "data": {
      "text/plain": [
       "'TFTSet12'"
      ]
     },
     "execution_count": 5,
     "metadata": {},
     "output_type": "execute_result"
    }
   ],
   "source": [
    "# TFT set\n",
    "q.select('tft_set').eval()"
   ]
  },
  {
   "cell_type": "code",
   "execution_count": 6,
   "metadata": {},
   "outputs": [
    {
     "name": "stdout",
     "output_type": "stream",
     "text": [
      "TFT12_Bard, TFT12_Galio, TFT12_Mordekaiser, TFT12_Rakan, TFT12_Rumble, TFT12_TahmKench, TFT12_Tristana, TFT12_Zilean\n"
     ]
    }
   ],
   "source": [
    "q.select('results.data.cluster_details.0.units_string').splay(depth=0)"
   ]
  },
  {
   "cell_type": "code",
   "execution_count": null,
   "metadata": {},
   "outputs": [],
   "source": []
  },
  {
   "cell_type": "code",
   "execution_count": 7,
   "metadata": {},
   "outputs": [
    {
     "data": {
      "text/plain": [
       "'\\n> clr            # Clear your current composition\\n> top            # Give me best compositions right now\\n> top zil        # Give me best compositions with Zilean.\\n> early zil      # Give me best early compositions with Zilean\\n> bi zil         # Give me best items for Zilean\\n> add zil twt ww # Stores Zilean, Twitch, and Warwick as part of your team.\\n> padd olaf      # If I add Olaf, what is the best composition?\\n> q Zilean       # Give me aliases for Zilean (zil, zi, Zilean)\\n'"
      ]
     },
     "execution_count": 7,
     "metadata": {},
     "output_type": "execute_result"
    }
   ],
   "source": [
    "\"\"\"\n",
    "> clr            # Clear your current composition\n",
    "> top            # Give me best compositions right now\n",
    "> top zil        # Give me best compositions with Zilean.\n",
    "> early zil      # Give me best early compositions with Zilean\n",
    "> bi zil         # Give me best items for Zilean\n",
    "> add zil twt ww # Stores Zilean, Twitch, and Warwick as part of your team.\n",
    "> padd olaf      # If I add Olaf, what is the best composition?\n",
    "> q Zilean       # Give me aliases for Zilean (zil, zi, Zilean)\n",
    "\"\"\""
   ]
  },
  {
   "cell_type": "code",
   "execution_count": null,
   "metadata": {},
   "outputs": [],
   "source": []
  },
  {
   "cell_type": "code",
   "execution_count": null,
   "metadata": {},
   "outputs": [],
   "source": []
  }
 ],
 "metadata": {
  "kernelspec": {
   "display_name": "tft-4lNynLs3-py3.12",
   "language": "python",
   "name": "python3"
  },
  "language_info": {
   "codemirror_mode": {
    "name": "ipython",
    "version": 3
   },
   "file_extension": ".py",
   "mimetype": "text/x-python",
   "name": "python",
   "nbconvert_exporter": "python",
   "pygments_lexer": "ipython3",
   "version": "3.12.1"
  }
 },
 "nbformat": 4,
 "nbformat_minor": 2
}
