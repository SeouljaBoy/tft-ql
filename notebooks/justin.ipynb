{
 "cells": [
  {
   "cell_type": "code",
   "execution_count": 1,
   "metadata": {},
   "outputs": [],
   "source": [
    "import tft.ql.expr as ql\n",
    "from tft.ql.util import *\n",
    "from tft.client.meta import *"
   ]
  },
  {
   "cell_type": "code",
   "execution_count": 2,
   "metadata": {},
   "outputs": [],
   "source": [
    "client = MetaTFTClient()\n",
    "comps = client.fetch(MetaTFTApis.COMPS_DATA)\n",
    "set_data = client.fetch(MetaTFTApis.SET_DATA)"
   ]
  },
  {
   "cell_type": "code",
   "execution_count": 3,
   "metadata": {},
   "outputs": [],
   "source": [
    "q = ql.query(comps)\n",
    "q2 = ql.query(set_data)"
   ]
  },
  {
   "cell_type": "code",
   "execution_count": 10,
   "metadata": {},
   "outputs": [
    {
     "name": "stdout",
     "output_type": "stream",
     "text": [
      "Rabadon's Deathcap\n",
      "Rabadon's Deathcap\n"
     ]
    }
   ],
   "source": [
    "q2.idx(\"items.0.en_name\").splay()\n",
    "q2.idx(\"items.0.en_name\").splay(1)\n",
    "\n",
    "#print(set_data)\n"
   ]
  },
  {
   "cell_type": "code",
   "execution_count": null,
   "metadata": {},
   "outputs": [],
   "source": [
    "q2.idx(\"items.0.en_name\").(q2[]).splay(1)"
   ]
  }
 ],
 "metadata": {
  "interpreter": {
   "hash": "0bcf3a434daac8dd04c44418266f930da08d09c9b607c7a84e07f3afcf97ac51"
  },
  "kernelspec": {
   "display_name": "Python 3.12.4 64-bit ('tft-tYF4_nK1-py3.12': poetry)",
   "language": "python",
   "name": "python3"
  },
  "language_info": {
   "codemirror_mode": {
    "name": "ipython",
    "version": 3
   },
   "file_extension": ".py",
   "mimetype": "text/x-python",
   "name": "python",
   "nbconvert_exporter": "python",
   "pygments_lexer": "ipython3",
   "version": "3.12.4"
  },
  "orig_nbformat": 4
 },
 "nbformat": 4,
 "nbformat_minor": 2
}
